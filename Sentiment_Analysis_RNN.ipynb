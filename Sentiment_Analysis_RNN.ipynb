{
  "nbformat": 4,
  "nbformat_minor": 0,
  "metadata": {
    "colab": {
      "name": "Sentiment Analysis RNN.ipynb",
      "provenance": [],
      "collapsed_sections": [],
      "mount_file_id": "1a5dWy9_nPU8miIdAd1OPVuutUtLsRHjK",
      "authorship_tag": "ABX9TyO6bdrF5iCDc2ie4HbO+RIu"
    },
    "kernelspec": {
      "display_name": "Python 3",
      "name": "python3"
    },
    "language_info": {
      "name": "python"
    }
  },
  "cells": [
    {
      "cell_type": "code",
      "source": [
        "import numpy as np\n",
        "import pandas as pd\n",
        "from sklearn.preprocessing import LabelEncoder\n",
        "from tensorflow.keras import models, layers, callbacks\n",
        "import matplotlib.pyplot as plt"
      ],
      "metadata": {
        "id": "IFYVtcED0z7I"
      },
      "execution_count": 112,
      "outputs": []
    },
    {
      "cell_type": "code",
      "metadata": {
        "id": "B-L6ZegBR2at"
      },
      "source": [
        "# The train, val and test sets are present in this drive link\n",
        "# Please download the files and upload them in the content folder first\n",
        "\n",
        "# https://drive.google.com/drive/folders/12GqRiyFHPUauuY0IIMlycVPRv_DuG5FI?usp=sharing"
      ],
      "execution_count": null,
      "outputs": []
    },
    {
      "cell_type": "code",
      "source": [
        "df1 = pd.read_csv('/content/drive/MyDrive/Datasets/Sentiment Analysis/train.txt', sep = ';', names = ['Text', 'Mood'])\n",
        "print(df1.head())\n",
        "\n",
        "df2 = pd.read_csv('/content/drive/MyDrive/Datasets/Sentiment Analysis/val.txt', sep = ';', names = ['Text', 'Mood'])\n",
        "df3 = pd.read_csv('/content/drive/MyDrive/Datasets/Sentiment Analysis/test.txt', sep = ';', names = ['Text', 'Mood'])"
      ],
      "metadata": {
        "colab": {
          "base_uri": "https://localhost:8080/"
        },
        "id": "t5r4jiTW03iI",
        "outputId": "4aa3be92-cdbb-45cb-a1d1-f63ff5c7eb7b"
      },
      "execution_count": 2,
      "outputs": [
        {
          "output_type": "stream",
          "name": "stdout",
          "text": [
            "                                                Text     Mood\n",
            "0                            i didnt feel humiliated  sadness\n",
            "1  i can go from feeling so hopeless to so damned...  sadness\n",
            "2   im grabbing a minute to post i feel greedy wrong    anger\n",
            "3  i am ever feeling nostalgic about the fireplac...     love\n",
            "4                               i am feeling grouchy    anger\n"
          ]
        }
      ]
    },
    {
      "cell_type": "code",
      "source": [
        "# Creating the vocabulary from the training set\n",
        "\n",
        "def create_vocab(df):\n",
        "  vocab = {}\n",
        "  c = 1\n",
        "\n",
        "  for i in df.iloc[:, 0]:\n",
        "    j = i.split()\n",
        "    for k in j:\n",
        "\n",
        "      if k not in vocab.keys():\n",
        "        vocab[k] = c\n",
        "        c = c + 1\n",
        "\n",
        "  # print(vocab)\n",
        "  return vocab"
      ],
      "metadata": {
        "id": "9KbzS88nUZ1a"
      },
      "execution_count": 29,
      "outputs": []
    },
    {
      "cell_type": "code",
      "source": [
        "# Creating the tokenized dataset\n",
        "\n",
        "def use_vocab(df, vocab):\n",
        "  text = []\n",
        "  df = df.iloc[:, 0].tolist()\n",
        "\n",
        "  length=0\n",
        "  for i in df:\n",
        "    if length < len(i.split()):\n",
        "      length = len(i.split())\n",
        "  print(length)\n",
        "\n",
        "  for i in df:\n",
        "    j = i.split()\n",
        "    x = []\n",
        "    y = 0\n",
        "\n",
        "    for k in j:\n",
        "      if k in vocab.keys():\n",
        "        x.append(vocab[k])\n",
        "        y = y+1\n",
        "\n",
        "    y = length-y\n",
        "    x.extend([0]*y)\n",
        "    text.append(x)\n",
        "\n",
        "  text = np.array(text)\n",
        "  # print(text)\n",
        "  return text"
      ],
      "metadata": {
        "id": "sFAAwM06Zddm"
      },
      "execution_count": 88,
      "outputs": []
    },
    {
      "cell_type": "code",
      "source": [
        "v = create_vocab(df1)\n",
        "X_train = use_vocab(df1, v)\n",
        "X_val = use_vocab(df2, v)\n",
        "X_test = use_vocab(df3, v)"
      ],
      "metadata": {
        "id": "6Y4fCNU9fErT",
        "colab": {
          "base_uri": "https://localhost:8080/"
        },
        "outputId": "5084d134-b833-464a-fe54-2f6ee55a40ce"
      },
      "execution_count": 89,
      "outputs": [
        {
          "output_type": "stream",
          "name": "stdout",
          "text": [
            "66\n",
            "61\n",
            "61\n"
          ]
        }
      ]
    },
    {
      "cell_type": "code",
      "metadata": {
        "id": "OlLP2Rwt3jNu"
      },
      "source": [
        "le = LabelEncoder()\n",
        "y_train = le.fit_transform(df1.iloc[:, 1])\n",
        "\n",
        "y_val = le.transform(df2.iloc[:, 1])\n",
        "y_test = le.transform(df3.iloc[:, 1])"
      ],
      "execution_count": 93,
      "outputs": []
    },
    {
      "cell_type": "code",
      "source": [
        "# Training the actual model\n",
        "\n",
        "model = models.Sequential([\n",
        "        layers.Embedding(len(v)+1, 40, mask_zero=True),\n",
        "        layers.LSTM(128, return_sequences=True),\n",
        "        layers.LSTM(100),\n",
        "        layers.Dense(6, activation='sigmoid')\n",
        "])\n",
        "\n",
        "model.compile(loss='sparse_categorical_crossentropy', metrics=['accuracy'], optimizer='adam')\n",
        "ES = callbacks.EarlyStopping(patience=5, restore_best_weights=True)\n",
        "model.fit(X_train, y_train, epochs=30, validation_data=[X_val, y_val], callbacks=[ES])"
      ],
      "metadata": {
        "colab": {
          "base_uri": "https://localhost:8080/"
        },
        "id": "D0m6W4Igh40G",
        "outputId": "b104340a-46c1-4dc9-8dc9-6833179d752d"
      },
      "execution_count": 125,
      "outputs": [
        {
          "output_type": "stream",
          "name": "stdout",
          "text": [
            "Epoch 1/30\n",
            "500/500 [==============================] - 102s 188ms/step - loss: 1.1693 - accuracy: 0.5102 - val_loss: 0.6249 - val_accuracy: 0.7730\n",
            "Epoch 2/30\n",
            "500/500 [==============================] - 89s 177ms/step - loss: 0.3265 - accuracy: 0.8888 - val_loss: 0.2738 - val_accuracy: 0.9060\n",
            "Epoch 3/30\n",
            "500/500 [==============================] - 89s 178ms/step - loss: 0.1617 - accuracy: 0.9434 - val_loss: 0.2415 - val_accuracy: 0.9110\n",
            "Epoch 4/30\n",
            "500/500 [==============================] - 89s 178ms/step - loss: 0.1124 - accuracy: 0.9589 - val_loss: 0.2633 - val_accuracy: 0.9130\n",
            "Epoch 5/30\n",
            "500/500 [==============================] - 89s 178ms/step - loss: 0.0797 - accuracy: 0.9703 - val_loss: 0.2618 - val_accuracy: 0.9185\n",
            "Epoch 6/30\n",
            "500/500 [==============================] - 89s 178ms/step - loss: 0.0644 - accuracy: 0.9761 - val_loss: 0.2656 - val_accuracy: 0.9165\n",
            "Epoch 7/30\n",
            "500/500 [==============================] - 89s 178ms/step - loss: 0.0552 - accuracy: 0.9789 - val_loss: 0.2824 - val_accuracy: 0.9140\n",
            "Epoch 8/30\n",
            "500/500 [==============================] - 89s 177ms/step - loss: 0.0494 - accuracy: 0.9809 - val_loss: 0.2868 - val_accuracy: 0.9150\n"
          ]
        },
        {
          "output_type": "execute_result",
          "data": {
            "text/plain": [
              "<keras.callbacks.History at 0x7f1b85f23a90>"
            ]
          },
          "metadata": {},
          "execution_count": 125
        }
      ]
    },
    {
      "cell_type": "code",
      "source": [
        "y_pred = model.predict(X_test)\n",
        "print(len(y_pred))"
      ],
      "metadata": {
        "colab": {
          "base_uri": "https://localhost:8080/"
        },
        "id": "AIAwoQMnidN-",
        "outputId": "15ba8b11-813b-4c55-a053-ac117151a502"
      },
      "execution_count": 126,
      "outputs": [
        {
          "output_type": "stream",
          "name": "stdout",
          "text": [
            "2000\n"
          ]
        }
      ]
    },
    {
      "cell_type": "code",
      "source": [
        "def convert(y):\n",
        "  y_g = []\n",
        "  y_p = []\n",
        "\n",
        "  for i in y:\n",
        "    m = max(i)\n",
        "    y_g.append(m)\n",
        "    if m == i[0]:\n",
        "      y_p.append(0)\n",
        "    elif m == i[1]:\n",
        "      y_p.append(1)\n",
        "    elif m == i[2]:\n",
        "      y_p.append(2)\n",
        "    elif m == i[3]:\n",
        "      y_p.append(3)\n",
        "    elif m == i[4]:\n",
        "      y_p.append(4)\n",
        "    else:\n",
        "      y_p.append(5)\n",
        "\n",
        "  return y_g, y_p"
      ],
      "metadata": {
        "id": "yjlOtzQV3aMa"
      },
      "execution_count": 130,
      "outputs": []
    },
    {
      "cell_type": "code",
      "source": [
        "y_graph, y_pred_1 = convert(y_pred)\n",
        "\n",
        "x_axis = range(len(X_test))\n",
        "\n",
        "plt.scatter(x_axis, y_graph)\n",
        "plt.show()\n",
        "\n",
        "j=0\n",
        "for i in y_graph:\n",
        "  if i<0.8:\n",
        "    j+=1\n",
        "\n",
        "print(j)\n",
        "\n",
        "j=0\n",
        "k=0\n",
        "for i in range(len(y_pred_1)):\n",
        "  if y_pred_1[i]==y_test[i]:\n",
        "    j+=1\n",
        "  else:\n",
        "    # print(i, ' -> ', y_pred[i])\n",
        "    if y_graph[i]<0.8:\n",
        "      k+=1\n",
        "\n",
        "print(k)\n",
        "print(\"Accuracy: \", j/len(y_test))\n",
        "print(\"No. of correct predictions: \", j)"
      ],
      "metadata": {
        "colab": {
          "base_uri": "https://localhost:8080/",
          "height": 334
        },
        "id": "CtiluzB2kYot",
        "outputId": "779d06bf-89f2-4559-fafd-b085436d61a5"
      },
      "execution_count": 131,
      "outputs": [
        {
          "output_type": "display_data",
          "data": {
            "image/png": "[encoded data removed]",
            "text/plain": [
              "<Figure size 432x288 with 1 Axes>"
            ]
          },
          "metadata": {
            "needs_background": "light"
          }
        },
        {
          "output_type": "stream",
          "name": "stdout",
          "text": [
            "22\n",
            "17\n",
            "Accuracy:  0.906\n",
            "No. of correct predictions:  1812\n"
          ]
        }
      ]
    },
    {
      "cell_type": "code",
      "metadata": {
        "colab": {
          "base_uri": "https://localhost:8080/"
        },
        "id": "Z4o8KtQrMACJ",
        "outputId": "3d6afd23-646a-478c-f910-0b71e307dc35"
      },
      "source": [
        "t = pd.DataFrame([input(\"Enter the text: \")])\n",
        "t_ = use_vocab(t, v)\n",
        "\n",
        "pred = model.predict(t_)\n",
        "y1, y2 = convert(pred)\n",
        "print(\"The mood is: \", le.inverse_transform(y2))"
      ],
      "execution_count": 146,
      "outputs": [
        {
          "output_type": "stream",
          "name": "stdout",
          "text": [
            "Enter the text: great movie\n",
            "2\n",
            "The mood is:  ['joy']\n"
          ]
        }
      ]
    }
  ]
}
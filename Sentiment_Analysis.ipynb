{
  "nbformat": 4,
  "nbformat_minor": 0,
  "metadata": {
    "colab": {
      "name": "Sentiment Analysis.ipynb",
      "provenance": [],
      "collapsed_sections": [],
      "mount_file_id": "1a5dWy9_nPU8miIdAd1OPVuutUtLsRHjK",
      "authorship_tag": "ABX9TyNN1zmB+B9KLc3d8l7riA9V"
    },
    "kernelspec": {
      "display_name": "Python 3",
      "name": "python3"
    },
    "language_info": {
      "name": "python"
    }
  },
  "cells": [
    {
      "cell_type": "code",
      "metadata": {
        "id": "4zrOS5y78mSV"
      },
      "source": [
        "import pandas as pd\n",
        "\n",
        "from sklearn.feature_extraction.text import TfidfVectorizer\n",
        "from sklearn.preprocessing import LabelEncoder\n",
        "\n",
        "from sklearn.svm import LinearSVC"
      ],
      "execution_count": 16,
      "outputs": []
    },
    {
      "cell_type": "code",
      "metadata": {
        "id": "B-L6ZegBR2at"
      },
      "source": [
        "# The train, val and test sets are present in this drive link\n",
        "# Please download the files and upload them in the content folder first\n",
        "\n",
        "# https://drive.google.com/drive/folders/12GqRiyFHPUauuY0IIMlycVPRv_DuG5FI?usp=sharing"
      ],
      "execution_count": null,
      "outputs": []
    },
    {
      "cell_type": "code",
      "metadata": {
        "colab": {
          "base_uri": "https://localhost:8080/",
          "height": 204
        },
        "id": "hU2LPfeR9T7U",
        "outputId": "3dc5225f-9c0f-4c48-f0b2-a53c4c2774f1"
      },
      "source": [
        "df1 = pd.read_csv('/content/drive/MyDrive/Datasets/Sentiment Analysis/train.txt', sep = ';', names = ['Text', 'Mood'])\n",
        "display(df1.head())\n",
        "\n",
        "cv = TfidfVectorizer(stop_words = 'english', min_df = 3, max_df = 300, ngram_range = (1,3))\n",
        "X_train = cv.fit_transform(df1.iloc[:, 0])\n",
        "\n",
        "le = LabelEncoder()\n",
        "y_train = le.fit_transform(df1.iloc[:, 1])"
      ],
      "execution_count": 34,
      "outputs": [
        {
          "output_type": "display_data",
          "data": {
            "text/html": [
              "<div>\n",
              "<style scoped>\n",
              "    .dataframe tbody tr th:only-of-type {\n",
              "        vertical-align: middle;\n",
              "    }\n",
              "\n",
              "    .dataframe tbody tr th {\n",
              "        vertical-align: top;\n",
              "    }\n",
              "\n",
              "    .dataframe thead th {\n",
              "        text-align: right;\n",
              "    }\n",
              "</style>\n",
              "<table border=\"1\" class=\"dataframe\">\n",
              "  <thead>\n",
              "    <tr style=\"text-align: right;\">\n",
              "      <th></th>\n",
              "      <th>Text</th>\n",
              "      <th>Mood</th>\n",
              "    </tr>\n",
              "  </thead>\n",
              "  <tbody>\n",
              "    <tr>\n",
              "      <th>0</th>\n",
              "      <td>i didnt feel humiliated</td>\n",
              "      <td>sadness</td>\n",
              "    </tr>\n",
              "    <tr>\n",
              "      <th>1</th>\n",
              "      <td>i can go from feeling so hopeless to so damned...</td>\n",
              "      <td>sadness</td>\n",
              "    </tr>\n",
              "    <tr>\n",
              "      <th>2</th>\n",
              "      <td>im grabbing a minute to post i feel greedy wrong</td>\n",
              "      <td>anger</td>\n",
              "    </tr>\n",
              "    <tr>\n",
              "      <th>3</th>\n",
              "      <td>i am ever feeling nostalgic about the fireplac...</td>\n",
              "      <td>love</td>\n",
              "    </tr>\n",
              "    <tr>\n",
              "      <th>4</th>\n",
              "      <td>i am feeling grouchy</td>\n",
              "      <td>anger</td>\n",
              "    </tr>\n",
              "  </tbody>\n",
              "</table>\n",
              "</div>"
            ],
            "text/plain": [
              "                                                Text     Mood\n",
              "0                            i didnt feel humiliated  sadness\n",
              "1  i can go from feeling so hopeless to so damned...  sadness\n",
              "2   im grabbing a minute to post i feel greedy wrong    anger\n",
              "3  i am ever feeling nostalgic about the fireplac...     love\n",
              "4                               i am feeling grouchy    anger"
            ]
          },
          "metadata": {}
        }
      ]
    },
    {
      "cell_type": "code",
      "metadata": {
        "id": "OlLP2Rwt3jNu"
      },
      "source": [
        "df2 = pd.read_csv('/content/drive/MyDrive/Datasets/Sentiment Analysis/val.txt', sep = ';', names = ['Text', 'Mood'])\n",
        "df3 = pd.read_csv('/content/drive/MyDrive/Datasets/Sentiment Analysis/test.txt', sep = ';', names = ['Text', 'Mood'])\n",
        "\n",
        "X_val = cv.transform(df2.iloc[:, 0])\n",
        "y_val = le.transform(df2.iloc[:, 1])\n",
        "\n",
        "X_test = cv.transform(df3.iloc[:, 0])\n",
        "y_test = le.transform(df3.iloc[:, 1])"
      ],
      "execution_count": 35,
      "outputs": []
    },
    {
      "cell_type": "code",
      "metadata": {
        "colab": {
          "base_uri": "https://localhost:8080/"
        },
        "id": "NgCgHmhmJDCG",
        "outputId": "9ad9aa37-b0f8-4430-de49-1171b5952929"
      },
      "source": [
        "svc = LinearSVC(loss = 'hinge')\n",
        "svc.fit(X_train, y_train)\n",
        "\n",
        "score_svc_val = svc.score(X_val, y_val)\n",
        "print('Val set accuracy using SVC: ', score_svc_val*100)\n",
        "\n",
        "score_svc_test = svc.score(X_test, y_test)\n",
        "print('Test set accuracy using SVC: ', score_svc_test*100)"
      ],
      "execution_count": 36,
      "outputs": [
        {
          "output_type": "stream",
          "name": "stdout",
          "text": [
            "Val set accuracy using SVC:  90.85\n",
            "Test set accuracy using SVC:  90.5\n"
          ]
        }
      ]
    },
    {
      "cell_type": "markdown",
      "metadata": {
        "id": "qSCNM6OPBBZH"
      },
      "source": [
        "Other models, like Logistic Regression and Multinomial Naive Bayes, were also trained and tested, but LinearSVC() gave the best results."
      ]
    },
    {
      "cell_type": "code",
      "metadata": {
        "id": "PTjpwAOxKRIl"
      },
      "source": [
        "# The below function extracts the word or phrase which, as per the model, best describes/supports the mood it predicted\n",
        "\n",
        "def abc(x):\n",
        "  s1 = x.toarray()\n",
        "  v = []\n",
        "\n",
        "  for i in range(s1.shape[0]):\n",
        "    x = True\n",
        "    d = 0\n",
        "\n",
        "    while x:\n",
        "      if s1[i, d] == s1[i].max():\n",
        "        break\n",
        "\n",
        "      else:\n",
        "        d = d+1\n",
        "    v.append(cv.get_feature_names()[d])\n",
        "  return v"
      ],
      "execution_count": 37,
      "outputs": []
    },
    {
      "cell_type": "code",
      "metadata": {
        "colab": {
          "base_uri": "https://localhost:8080/"
        },
        "id": "950--yZK1rVZ",
        "outputId": "be48a871-4c2b-45ce-a87e-d5658908a007"
      },
      "source": [
        "# Printing the first 10 rows of the test dataset, with its predicted and actual label and also the supporting text\n",
        "\n",
        "y_pred_svc = svc.predict(X_test[0:10])    \n",
        "\n",
        "a = abc(X_test[0:10])\n",
        "b = le.inverse_transform(y_pred_svc)\n",
        "c = le.inverse_transform(y_test)\n",
        "\n",
        "print('Predicted vs Actual mood using SVC\\n')\n",
        "for h, i, j, k in zip(df3.iloc[0:10, 0], a, b, c):\n",
        "  print(h)\n",
        "  print('Predicted: ', j, '\\tActual: ', k, '\\tSupporting Text: ', i)\n",
        "  print()"
      ],
      "execution_count": 38,
      "outputs": [
        {
          "output_type": "stream",
          "name": "stdout",
          "text": [
            "Predicted vs Actual mood using SVC\n",
            "\n",
            "im feeling rather rotten so im not very ambitious right now\n",
            "Predicted:  sadness \tActual:  sadness \tSupporting Text:  feeling rotten\n",
            "\n",
            "im updating my blog because i feel shitty\n",
            "Predicted:  sadness \tActual:  sadness \tSupporting Text:  blog feel\n",
            "\n",
            "i never make her separate from me because i don t ever want her to feel like i m ashamed with her\n",
            "Predicted:  sadness \tActual:  sadness \tSupporting Text:  separate\n",
            "\n",
            "i left with my bouquet of red and yellow tulips under my arm feeling slightly more optimistic than when i arrived\n",
            "Predicted:  joy \tActual:  joy \tSupporting Text:  arrived\n",
            "\n",
            "i was feeling a little vain when i did this one\n",
            "Predicted:  sadness \tActual:  sadness \tSupporting Text:  vain\n",
            "\n",
            "i cant walk into a shop anywhere where i do not feel uncomfortable\n",
            "Predicted:  fear \tActual:  fear \tSupporting Text:  shop\n",
            "\n",
            "i felt anger when at the end of a telephone call\n",
            "Predicted:  sadness \tActual:  anger \tSupporting Text:  anger\n",
            "\n",
            "i explain why i clung to a relationship with a boy who was in many ways immature and uncommitted despite the excitement i should have been feeling for getting accepted into the masters program at the university of virginia\n",
            "Predicted:  joy \tActual:  joy \tSupporting Text:  virginia\n",
            "\n",
            "i like to have the same breathless feeling as a reader eager to see what will happen next\n",
            "Predicted:  joy \tActual:  joy \tSupporting Text:  reader\n",
            "\n",
            "i jest i feel grumpy tired and pre menstrual which i probably am but then again its only been a week and im about as fit as a walrus on vacation for the summer\n",
            "Predicted:  anger \tActual:  anger \tSupporting Text:  feel grumpy\n",
            "\n"
          ]
        }
      ]
    },
    {
      "cell_type": "code",
      "metadata": {
        "colab": {
          "base_uri": "https://localhost:8080/"
        },
        "id": "Z4o8KtQrMACJ",
        "outputId": "81819f2d-2489-4f26-d6c4-c000509b23fe"
      },
      "source": [
        "text = [input(\"Enter the text: \")]\n",
        "text_ = cv.transform(text)\n",
        "\n",
        "pred = svc.predict(text_)\n",
        "print(\"The mood is: \", le.inverse_transform(pred))"
      ],
      "execution_count": 39,
      "outputs": [
        {
          "output_type": "stream",
          "name": "stdout",
          "text": [
            "Enter the text: He was really irritated yesterday\n",
            "The mood is:  ['anger']\n"
          ]
        }
      ]
    }
  ]
}